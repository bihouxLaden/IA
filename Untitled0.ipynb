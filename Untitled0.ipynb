{
  "nbformat": 4,
  "nbformat_minor": 0,
  "metadata": {
    "colab": {
      "provenance": [],
      "authorship_tag": "ABX9TyPEE6vBvWyu7f1leqpiHiAh"
    },
    "kernelspec": {
      "name": "python3",
      "display_name": "Python 3"
    },
    "language_info": {
      "name": "python"
    }
  },
  "cells": [
    {
      "cell_type": "code",
      "execution_count": 2,
      "metadata": {
        "colab": {
          "base_uri": "https://localhost:8080/",
          "height": 71
        },
        "id": "8hX_h02VvxBG",
        "outputId": "0f586777-a0b4-4dca-ab3b-fa68a3938827"
      },
      "outputs": [
        {
          "output_type": "stream",
          "name": "stdout",
          "text": [
            "hello word\n",
            "bonjour\n"
          ]
        },
        {
          "output_type": "execute_result",
          "data": {
            "text/plain": [
              "'bonjour'"
            ],
            "application/vnd.google.colaboratory.intrinsic+json": {
              "type": "string"
            }
          },
          "metadata": {},
          "execution_count": 2
        }
      ],
      "source": [
        "print('hello word')\n",
        "print('bonjour')\n",
        "'bonjour'"
      ]
    },
    {
      "cell_type": "code",
      "source": [
        "#Integer 0, 1, 2, 3 (N)\n",
        "a = 10\n",
        "print(a)\n",
        "print(type(a))\n",
        "\n",
        "#Float 0.5 , 1.66\n",
        "variable2 =10.0\n",
        "print(variable2)\n",
        "print(type(variable2))\n",
        "\n",
        "#String 'azertyuiop'\n",
        "variable3 = 'OM'\n",
        "print(variable3)\n",
        "print(type(variable3))\n",
        "\n",
        "#Boolean True/False, 1/0\n",
        "print(1 == 0)#egalité ==\n",
        "print(1 < 0)#inférieur <\n",
        "print(1<=0)#inférieur ou égal <=\n",
        "\n",
        "print( 1>0 )#supérieur >\n",
        "print(1 >= 0)#supérieur ou égal >=\n",
        "\n",
        "print(1 != 0)#different\n",
        "\n",
        "print(bool(1), bool(0))"
      ],
      "metadata": {
        "colab": {
          "base_uri": "https://localhost:8080/"
        },
        "id": "gbygcrskw6rf",
        "outputId": "e6289c3b-e598-4fdc-f8b9-221e51adeced"
      },
      "execution_count": 13,
      "outputs": [
        {
          "output_type": "stream",
          "name": "stdout",
          "text": [
            "10\n",
            "<class 'int'>\n",
            "10.0\n",
            "<class 'float'>\n",
            "OM\n",
            "<class 'str'>\n",
            "False\n",
            "False\n",
            "False\n",
            "True\n",
            "True\n",
            "True\n",
            "True False\n"
          ]
        }
      ]
    },
    {
      "cell_type": "code",
      "source": [
        "print(int(15.2))# convertir float en int <>"
      ],
      "metadata": {
        "colab": {
          "base_uri": "https://localhost:8080/"
        },
        "id": "TcvGzzcO02Vp",
        "outputId": "f296a0e6-1e29-41a1-f93f-296bfcbf5c5d"
      },
      "execution_count": 15,
      "outputs": [
        {
          "output_type": "stream",
          "name": "stdout",
          "text": [
            "15\n"
          ]
        }
      ]
    },
    {
      "cell_type": "code",
      "source": [
        "#Tuple (1,0) se met toujours entre parenthèse\n",
        "variable4 = (1,0)\n",
        "print(variable4)\n",
        "print(type(variable4))\n",
        "\n",
        "#List [1,0, 'OM' , 'PSG', 'OL'] #index des listes commences à 0\n",
        "variable5 = [1,0, 'OM' , 'PSG', 'OL']\n",
        "print(variable5)\n",
        "print(type(variable5))\n",
        "\n",
        "#Dict {'P' : 'Pomme'} P : key,  Pomme : value\n",
        "\n",
        "variable6 = {'P':['Profil', 'PApa', 'Peloton', 'Pomme'],\n",
        "             'Hoby':['Eau', 'Vary', 'Clavier', 'Laoka']\n",
        "             }\n",
        "\n",
        "print(variable6)\n",
        "print(type(variable6))\n",
        "\n",
        "\n",
        "#if else / elif Permet de mettre des conditions\n",
        "#variable\n",
        "if variable3 == 'PSG':\n",
        "  print(\"c'est le PSG\")\n",
        "elif variable3 == 'OM':\n",
        "  print(\"c'est l'OM\")\n",
        "else:\n",
        "  print(\"ce n'est ni l'OM ni le PSG\")\n",
        "  print(variable3)"
      ],
      "metadata": {
        "colab": {
          "base_uri": "https://localhost:8080/"
        },
        "id": "FBBSUG9a1ITd",
        "outputId": "95547863-0b27-48c4-a698-c310b80f23d1"
      },
      "execution_count": 14,
      "outputs": [
        {
          "output_type": "stream",
          "name": "stdout",
          "text": [
            "(1, 0)\n",
            "<class 'tuple'>\n",
            "[1, 0, 'OM', 'PSG', 'OL']\n",
            "<class 'list'>\n",
            "{'P': ['Profil', 'PApa', 'Peloton', 'Pomme'], 'Hoby': ['Eau', 'Vary', 'Clavier', 'Laoka']}\n",
            "<class 'dict'>\n",
            "c'est l'OM\n"
          ]
        }
      ]
    },
    {
      "cell_type": "code",
      "source": [
        "#Boucle for <variable> in <liste>\n",
        "variableB = \"HOBY\"\n",
        "for i in [0, 1, 2,3]:\n",
        "  print(i)\n",
        "  print(variableB)\n",
        "\n",
        "for i in range (10): #Print uniquement jusqu'à 9 puisque commence à 0\n",
        "  print(i)\n",
        "\n",
        "  del(i)"
      ],
      "metadata": {
        "colab": {
          "base_uri": "https://localhost:8080/"
        },
        "id": "6bzWE79o6Mn2",
        "outputId": "98e1f9d4-23ec-40e5-879f-13cdebe5712f"
      },
      "execution_count": 19,
      "outputs": [
        {
          "output_type": "stream",
          "name": "stdout",
          "text": [
            "0\n",
            "HOBY\n",
            "1\n",
            "HOBY\n",
            "2\n",
            "HOBY\n",
            "3\n",
            "HOBY\n",
            "0\n",
            "1\n",
            "2\n",
            "3\n",
            "4\n",
            "5\n",
            "6\n",
            "7\n",
            "8\n",
            "9\n"
          ]
        }
      ]
    },
    {
      "cell_type": "code",
      "source": [
        "#while <condition> pas résolu, on boucle\n",
        "#ATTENTIONAU BOUCLE INFINIE\n",
        "\n",
        "i=0\n",
        "while (i!=10):\n",
        "  print(i)\n",
        "  i = i+1"
      ],
      "metadata": {
        "colab": {
          "base_uri": "https://localhost:8080/"
        },
        "id": "hriWx8qjBKCN",
        "outputId": "1db317fd-960c-465c-a942-fa9defdc5101"
      },
      "execution_count": 20,
      "outputs": [
        {
          "output_type": "stream",
          "name": "stdout",
          "text": [
            "0\n",
            "1\n",
            "2\n",
            "3\n",
            "4\n",
            "5\n",
            "6\n",
            "7\n",
            "8\n",
            "9\n"
          ]
        }
      ]
    },
    {
      "cell_type": "code",
      "source": [
        "#Fonction def NOM_FONCTION(ARGUMENT) Argument = les variables qui vont être utilisé dans la fonction\n",
        "\n",
        "def mean(number1, number2):\n",
        "  mean_of_two_numbers = (number1 + number2) / 2\n",
        "\n",
        "  return mean_of_two_numbers\n",
        "\n",
        "#print()\n",
        "mean (10, 20)\n",
        "print (mean(30, 50))"
      ],
      "metadata": {
        "colab": {
          "base_uri": "https://localhost:8080/"
        },
        "id": "1bHnovfLCmn_",
        "outputId": "2375f5fa-3066-4b64-d027-0a842d43805b"
      },
      "execution_count": 24,
      "outputs": [
        {
          "output_type": "stream",
          "name": "stdout",
          "text": [
            "40.0\n"
          ]
        }
      ]
    },
    {
      "cell_type": "code",
      "source": [],
      "metadata": {
        "id": "Nan7jkkIBG9-"
      },
      "execution_count": null,
      "outputs": []
    }
  ]
}